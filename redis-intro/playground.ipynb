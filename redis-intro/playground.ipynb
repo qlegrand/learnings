{
 "cells": [
  {
   "cell_type": "code",
   "execution_count": 1,
   "metadata": {},
   "outputs": [],
   "source": [
    "import redis"
   ]
  },
  {
   "cell_type": "code",
   "execution_count": 2,
   "metadata": {},
   "outputs": [],
   "source": [
    "r = redis.Redis(host=\"localhost\", port=6379, db=0, decode_responses=True)\n"
   ]
  },
  {
   "cell_type": "code",
   "execution_count": 21,
   "metadata": {},
   "outputs": [],
   "source": [
    "r.hset('bike', mapping={\n",
    "        \"model\": \"Deimos\",\n",
    "        \"brand\": \"Ergonom\",\n",
    "        \"type\": \"Enduro bikes\",\n",
    "        \"price\": 497,\n",
    "    })\n",
    "# True\n",
    "\n",
    "d = r.hgetall('bike')"
   ]
  },
  {
   "cell_type": "code",
   "execution_count": 23,
   "metadata": {},
   "outputs": [
    {
     "data": {
      "text/plain": [
       "dict"
      ]
     },
     "execution_count": 23,
     "metadata": {},
     "output_type": "execute_result"
    }
   ],
   "source": [
    "type(d)"
   ]
  },
  {
   "cell_type": "code",
   "execution_count": null,
   "metadata": {},
   "outputs": [],
   "source": []
  },
  {
   "cell_type": "code",
   "execution_count": null,
   "metadata": {},
   "outputs": [],
   "source": []
  },
  {
   "cell_type": "code",
   "execution_count": 26,
   "metadata": {},
   "outputs": [
    {
     "name": "stdout",
     "output_type": "stream",
     "text": [
      "0\n",
      "Deimos\n",
      "4972\n",
      "{'model': 'Deimos', 'brand': 'Ergonom', 'type': 'Enduro bikes', 'price': '4972'}\n",
      "['Deimos', '4972']\n",
      "5072\n",
      "4972\n",
      "7\n",
      "8\n",
      "9\n",
      "3\n",
      "3\n",
      "9\n",
      "['3', '3']\n",
      "{'rides': '9', 'crashes': '3', 'owners': '3'}\n"
     ]
    }
   ],
   "source": [
    "res1 = r.hset(\n",
    "    \"bike:123\",\n",
    "    mapping={\n",
    "        \"model\": \"Deimos\",\n",
    "        \"brand\": \"Ergonom\",\n",
    "        \"type\": \"Enduro bikes\",\n",
    "        \"price\": 4972,\n",
    "    },\n",
    ")\n",
    "print(res1)\n",
    "# >>> 4\n",
    "\n",
    "res2 = r.hget(\"bike:123\", \"model\")\n",
    "print(res2)\n",
    "# >>> 'Deimos'\n",
    "\n",
    "res3 = r.hget(\"bike:123\", \"price\")\n",
    "print(res3)\n",
    "# >>> '4972'\n",
    "\n",
    "res4 = r.hgetall(\"bike:123\")\n",
    "print(res4)\n",
    "# >>> {'model': 'Deimos', 'brand': 'Ergonom', 'type': 'Enduro bikes', 'price': '4972'}\n",
    "\n",
    "\n",
    "\n",
    "res5 = r.hmget(\"bike:123\", [\"model\", \"price\"])\n",
    "print(res5)\n",
    "# >>> ['Deimos', '4972']\n",
    "\n",
    "\n",
    "res6 = r.hincrby(\"bike:123\", \"price\", 100)\n",
    "print(res6)\n",
    "# >>> 5072\n",
    "res7 = r.hincrby(\"bike:123\", \"price\", -100)\n",
    "print(res7)\n",
    "# >>> 4972\n",
    "\n",
    "\n",
    "\n",
    "res11 = r.hincrby(\"bike:123:stats\", \"rides\", 1)\n",
    "print(res11)\n",
    "# >>> 1\n",
    "res12 = r.hincrby(\"bike:123:stats\", \"rides\", 1)\n",
    "print(res12)\n",
    "# >>> 2\n",
    "res13 = r.hincrby(\"bike:123:stats\", \"rides\", 1)\n",
    "print(res13)\n",
    "# >>> 3\n",
    "res14 = r.hincrby(\"bike:123:stats\", \"crashes\", 1)\n",
    "print(res14)\n",
    "# >>> 1\n",
    "res15 = r.hincrby(\"bike:123:stats\", \"owners\", 1)\n",
    "print(res15)\n",
    "# >>> 1\n",
    "res16 = r.hget(\"bike:123:stats\", \"rides\")\n",
    "print(res16)\n",
    "# >>> 3\n",
    "res17 = r.hmget(\"bike:123:stats\", [\"crashes\", \"owners\"])\n",
    "print(res17)\n",
    "# >>> ['1', '1']\n",
    "\n",
    "res18 = r.hgetall(\"bike:123:stats\")\n",
    "print(res18)"
   ]
  },
  {
   "cell_type": "code",
   "execution_count": null,
   "metadata": {},
   "outputs": [],
   "source": []
  }
 ],
 "metadata": {
  "kernelspec": {
   "display_name": "Python 3",
   "language": "python",
   "name": "python3"
  },
  "language_info": {
   "codemirror_mode": {
    "name": "ipython",
    "version": 3
   },
   "file_extension": ".py",
   "mimetype": "text/x-python",
   "name": "python",
   "nbconvert_exporter": "python",
   "pygments_lexer": "ipython3",
   "version": "3.9.6"
  },
  "orig_nbformat": 4
 },
 "nbformat": 4,
 "nbformat_minor": 2
}
